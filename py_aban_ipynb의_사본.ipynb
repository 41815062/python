{
  "nbformat": 4,
  "nbformat_minor": 0,
  "metadata": {
    "colab": {
      "provenance": [],
      "authorship_tag": "ABX9TyN2ki6Dzv0TspsLZmNhEgem",
      "include_colab_link": true
    },
    "kernelspec": {
      "name": "python3",
      "display_name": "Python 3"
    },
    "language_info": {
      "name": "python"
    }
  },
  "cells": [
    {
      "cell_type": "markdown",
      "metadata": {
        "id": "view-in-github",
        "colab_type": "text"
      },
      "source": [
        "<a href=\"https://colab.research.google.com/github/41815062/python/blob/main/py_aban_ipynb%EC%9D%98_%EC%82%AC%EB%B3%B8.ipynb\" target=\"_parent\"><img src=\"https://colab.research.google.com/assets/colab-badge.svg\" alt=\"Open In Colab\"/></a>"
      ]
    },
    {
      "cell_type": "code",
      "execution_count": null,
      "metadata": {
        "id": "N3rtPnSlhj34"
      },
      "outputs": [],
      "source": []
    },
    {
      "cell_type": "markdown",
      "source": [],
      "metadata": {
        "id": "WTHXCTaqhq6Z"
      }
    },
    {
      "cell_type": "markdown",
      "source": [
        "#CH1. 파이썬 문법\n",
        "## 자료형\n",
        "**숫자형**  \n",
        "  \n",
        "* 정수 : 123, 456, 0. -30  \n",
        "* 실수 : 12.345. -987,65 0.7e6  \n",
        "* 8진수 : 0o765, 0o123\n",
        "* 16진수 : 0x0D, 0x0A, 0xFF  \n",
        "\n",
        "**변수**  \n",
        "* 문자 또는 밑줄로 시작(_kim, alpha)  \n",
        "* 대소문자 구분(sum, Sum, SUM)  \n",
        "* 영문자, 숫자, 밑줄(A~z, 0-9, _)  \n",
        " ex) sun_9, Alpha, s9n)  \n",
        "* 파이썬 키워드(print...)  \n",
        "\n",
        "**표기법**  \n",
        "+ 카멜(낙타) : myNAME  \n",
        "+ 스네이크(뱀) : my_name  \n",
        "+ 파스칼 : MyName\n",
        "\n",
        "\n"
      ],
      "metadata": {
        "id": "lYZB82C_htyh"
      }
    },
    {
      "cell_type": "code",
      "source": [
        "a = 10\n",
        "b = 20 \n",
        "f = \"10\"\n",
        "c = a+b\n",
        "print(a,b,c,f)\n",
        "\n"
      ],
      "metadata": {
        "colab": {
          "base_uri": "https://localhost:8080/"
        },
        "id": "nkToiLJFlXcr",
        "outputId": "3a263105-d171-43aa-c4b4-f4aff399a5b3"
      },
      "execution_count": null,
      "outputs": [
        {
          "output_type": "stream",
          "name": "stdout",
          "text": [
            "10 20 30 10\n"
          ]
        }
      ]
    },
    {
      "cell_type": "code",
      "source": [
        "a = 10\n",
        "b = 20\n",
        "c = \"10\"\n",
        "d = \"20\"\n",
        "\n",
        "print(a+b)\n",
        "print(a,b)\n",
        "print(type(a))\n",
        "print(type(b))\n",
        "print (a+b)\n",
        "print(c+d)\n"
      ],
      "metadata": {
        "colab": {
          "base_uri": "https://localhost:8080/"
        },
        "id": "jmZgkwy7l-Ea",
        "outputId": "eaf6735d-d152-4bd2-ca75-1308e05bf8e9"
      },
      "execution_count": null,
      "outputs": [
        {
          "output_type": "stream",
          "name": "stdout",
          "text": [
            "30\n",
            "10 20\n",
            "<class 'int'>\n",
            "<class 'int'>\n",
            "30\n",
            "1020\n"
          ]
        }
      ]
    },
    {
      "cell_type": "code",
      "source": [
        "# 나눗셈\n",
        "a = 10\n",
        "b = 3\n",
        "c = a / b\n",
        "d = a // b # 몫\n",
        "e = a % b # 나머지 ex(홀짝 LED 깜빡임)\n",
        "print(c,d,e)\n"
      ],
      "metadata": {
        "colab": {
          "base_uri": "https://localhost:8080/"
        },
        "id": "jd9yqIUPqYjr",
        "outputId": "ee11cbc0-f0c9-494c-9937-76007603cde8"
      },
      "execution_count": null,
      "outputs": [
        {
          "output_type": "stream",
          "name": "stdout",
          "text": [
            "3.3333333333333335 3 1\n"
          ]
        }
      ]
    },
    {
      "cell_type": "code",
      "source": [
        "# 곱셈\n",
        "a = 10\n",
        "b = 3\n",
        "c = a * b # 곱하기\n",
        "d = a**b # 제곱\n",
        "print(c, d)\n"
      ],
      "metadata": {
        "colab": {
          "base_uri": "https://localhost:8080/"
        },
        "id": "9s2oZbiErHWE",
        "outputId": "6a184107-a7ab-4cc1-f7dd-e1b893e7eace"
      },
      "execution_count": null,
      "outputs": [
        {
          "output_type": "stream",
          "name": "stdout",
          "text": [
            "30 1000\n"
          ]
        }
      ]
    },
    {
      "cell_type": "markdown",
      "source": [
        "#### 문자열\n",
        "1. 큰따옴표 : \"Woo Jin\"\n",
        "2. 작은따옴표 : 'Woo Jin'\n",
        "3. 큰 따옴표 3개 : \"\"\"대한민국\"\"\"\n",
        "4. 작은 따옴표 3개 : '''대한민국'''\n",
        "5. \"동해물과 백두산이 마르고 닳도록 kim's\\\""
      ],
      "metadata": {
        "id": "p5v0SkMlrjjr"
      }
    },
    {
      "cell_type": "code",
      "source": [
        "# 변수\n",
        "myName = \"Lee Woo Jin\"\n",
        "my_name = '이우진'\n",
        "_my_name = \"korea\"\n",
        "MYNAME = \"코리아\"\n",
        "my2name = \"kikiki\"\n",
        "# 2myname = \"숫자먼저\"\n",
        "# 시험 실수 하는 것 my-name = \"마이너스\"\n",
        "# my name = \"스페이스\"\n",
        "myName1 = 1234\n",
        "myName2 = \"1234\"\n",
        "print(type(myName1))\n",
        "print(type(myName2))"
      ],
      "metadata": {
        "colab": {
          "base_uri": "https://localhost:8080/"
        },
        "id": "E5clc72qtbRt",
        "outputId": "ba8a3f72-54a2-4492-8a3f-f0cd335e7baa"
      },
      "execution_count": null,
      "outputs": [
        {
          "output_type": "stream",
          "name": "stdout",
          "text": [
            "<class 'int'>\n",
            "<class 'str'>\n"
          ]
        }
      ]
    },
    {
      "cell_type": "markdown",
      "source": [
        "#### 변수할당"
      ],
      "metadata": {
        "id": "yJVTPbLcuuoc"
      }
    },
    {
      "cell_type": "code",
      "source": [
        "a=b=c= \"브라보콘\"\n",
        "print(a)\n",
        "print(b)\n",
        "print(c)\n"
      ],
      "metadata": {
        "colab": {
          "base_uri": "https://localhost:8080/"
        },
        "id": "H0Yx6Kw0uzP8",
        "outputId": "4cf5853b-82c6-4931-e302-f6315c95d32d"
      },
      "execution_count": null,
      "outputs": [
        {
          "output_type": "stream",
          "name": "stdout",
          "text": [
            "브라보콘\n",
            "브라보콘\n",
            "브라보콘\n"
          ]
        }
      ]
    },
    {
      "cell_type": "code",
      "source": [
        "x,y,z = \"딸기\", \"포도\" , \"바나나\"\n",
        "print(x,y,z)\n"
      ],
      "metadata": {
        "colab": {
          "base_uri": "https://localhost:8080/"
        },
        "id": "KlGSO8_4vMXa",
        "outputId": "9e9b93d6-3365-428c-a7fc-890982fe811e"
      },
      "execution_count": null,
      "outputs": [
        {
          "output_type": "stream",
          "name": "stdout",
          "text": [
            "딸기 포도 바나나\n"
          ]
        }
      ]
    },
    {
      "cell_type": "code",
      "source": [
        "fruits=[\"누가바\",\"쌍쌍바\", \"보석바\"]\n",
        "x,y,z = fruits \n",
        "print(x)\n",
        "print(y)\n",
        "print(z)\n"
      ],
      "metadata": {
        "colab": {
          "base_uri": "https://localhost:8080/"
        },
        "id": "9suPxDjTv6cl",
        "outputId": "55f96a11-f0be-48c0-f21c-0166d6e43a24"
      },
      "execution_count": null,
      "outputs": [
        {
          "output_type": "stream",
          "name": "stdout",
          "text": [
            "누가바\n",
            "쌍쌍바\n",
            "보석바\n"
          ]
        }
      ]
    },
    {
      "cell_type": "code",
      "source": [
        "x = \"Life\"\n",
        "y = \"is\"\n",
        "z = \"beatiful!\"\n",
        "print(x,y,z)\n",
        "print(x+y+z)"
      ],
      "metadata": {
        "colab": {
          "base_uri": "https://localhost:8080/"
        },
        "id": "HPozvHskwgjF",
        "outputId": "ca2fa9b6-b913-447a-9903-d9778c22e5c1"
      },
      "execution_count": null,
      "outputs": [
        {
          "output_type": "stream",
          "name": "stdout",
          "text": [
            "Life is beatiful!\n",
            "Lifeisbeatiful!\n"
          ]
        }
      ]
    },
    {
      "cell_type": "code",
      "source": [
        "a = 1\n",
        "b = 2\n",
        "c = 3\n",
        "print(a+b+c)\n",
        "print(a,b,c)"
      ],
      "metadata": {
        "colab": {
          "base_uri": "https://localhost:8080/"
        },
        "id": "X47s32WuxMWN",
        "outputId": "8ea32ac0-9d4c-4090-f377-a3b1edd30f64"
      },
      "execution_count": null,
      "outputs": [
        {
          "output_type": "stream",
          "name": "stdout",
          "text": [
            "6\n",
            "1 2 3\n"
          ]
        }
      ]
    },
    {
      "cell_type": "code",
      "source": [
        "a = '1'\n",
        "b = '2'\n",
        "c = '3'\n",
        "print(a+b+c)\n",
        "print(a,b,c)"
      ],
      "metadata": {
        "colab": {
          "base_uri": "https://localhost:8080/"
        },
        "id": "lL_-BVwAxZHf",
        "outputId": "d8f7227c-4d48-4270-c59b-8165174d67f5"
      },
      "execution_count": null,
      "outputs": [
        {
          "output_type": "stream",
          "name": "stdout",
          "text": [
            "123\n",
            "1 2 3\n"
          ]
        }
      ]
    },
    {
      "cell_type": "markdown",
      "source": [
        "데이터 바꾸기"
      ],
      "metadata": {
        "id": "S5iPU8_z758o"
      }
    },
    {
      "cell_type": "code",
      "source": [
        " a = 1; b = 2\n",
        " a, b = b , a\n",
        "print(a,b)"
      ],
      "metadata": {
        "colab": {
          "base_uri": "https://localhost:8080/"
        },
        "id": "jOT73j3k78t4",
        "outputId": "f514514a-58e8-4e05-80b2-055d36a5b569"
      },
      "execution_count": null,
      "outputs": [
        {
          "output_type": "stream",
          "name": "stdout",
          "text": [
            "2 1\n"
          ]
        }
      ]
    },
    {
      "cell_type": "code",
      "source": [
        "b = 2; c = 3\n",
        "#c = (b=b+c) //에러발생"
      ],
      "metadata": {
        "id": "xwzk83EO8Sho"
      },
      "execution_count": null,
      "outputs": []
    },
    {
      "cell_type": "code",
      "source": [
        "a=1;b=1;c=3\n",
        "f = a + b + \\  # \\ 줄바꿈\n",
        "c\n",
        "print(f)"
      ],
      "metadata": {
        "colab": {
          "base_uri": "https://localhost:8080/"
        },
        "id": "tw0o9VVz8lH4",
        "outputId": "46445dad-4958-4c2b-d866-16ed9bb80ecd"
      },
      "execution_count": null,
      "outputs": [
        {
          "output_type": "stream",
          "name": "stdout",
          "text": [
            "5\n"
          ]
        }
      ]
    },
    {
      "cell_type": "code",
      "source": [
        "# len()\n",
        "\n",
        "a = '123456'\n",
        "b = [2,3,4,5]   # 숫자는 배열로 잡아줘야 길이나타내기 가능\n",
        "print(len(a))\n",
        "print(len(b))"
      ],
      "metadata": {
        "colab": {
          "base_uri": "https://localhost:8080/"
        },
        "id": "eCx_Yr6R86Uo",
        "outputId": "fa6db838-5df4-4682-8a65-9c8caf7cd683"
      },
      "execution_count": null,
      "outputs": [
        {
          "output_type": "stream",
          "name": "stdout",
          "text": [
            "6\n",
            "4\n"
          ]
        }
      ]
    },
    {
      "cell_type": "markdown",
      "source": [
        "#### 계산기"
      ],
      "metadata": {
        "id": "kRQKNWl39YCo"
      }
    },
    {
      "cell_type": "code",
      "source": [
        "a = 100\n",
        "b = 200\n",
        "result=a+b\n",
        "print(a,'+',b,'=',result)\n",
        "result = a - b\n",
        "print(a,'-',b,'=',result)\n",
        "result=a/b\n",
        "print(a,'/',b,'=',result)\n",
        "result = a * b\n",
        "print(a,'*',b,'=',result)"
      ],
      "metadata": {
        "colab": {
          "base_uri": "https://localhost:8080/"
        },
        "id": "W2xw6ijf9a8B",
        "outputId": "a70c654d-2880-4f24-cc47-bfb181baee4b"
      },
      "execution_count": null,
      "outputs": [
        {
          "output_type": "stream",
          "name": "stdout",
          "text": [
            "100 + 200 = 300\n",
            "100 - 200 = -100\n",
            "100 / 200 = 0.5\n",
            "100 * 200 = 20000\n"
          ]
        }
      ]
    },
    {
      "cell_type": "code",
      "source": [
        "a = \"1234\"\n",
        "b = 5678\n",
        "c = int(a)+ b # 형 변환\n",
        "print(c)"
      ],
      "metadata": {
        "colab": {
          "base_uri": "https://localhost:8080/"
        },
        "id": "1SD3r2gIAp1K",
        "outputId": "d20c3e5a-c0ac-4148-8cba-eb53cf57f9ce"
      },
      "execution_count": null,
      "outputs": [
        {
          "output_type": "stream",
          "name": "stdout",
          "text": [
            "6912\n"
          ]
        }
      ]
    },
    {
      "cell_type": "code",
      "source": [
        "# 계산기 2\n",
        "num1 = int(input(\"숫자입력1:  \"))\n",
        "num2 = int(input(\"숫자입력2:  \"))\n",
        "print(type(num1))\n",
        "\n",
        "result1 = num1 + num2\n",
        "result2 = num1 - num2\n",
        "result3 = num1 * num2\n",
        "result4 = num1 / num2\n",
        "print(result1,result2,result3,result4)\n",
        "result=num1+num2\n",
        "print(num1,'+',num2,'=',result)\n",
        "result =num1-num2\n",
        "print(num1,'-',num2,'=',result)\n",
        "result=num1/num2\n",
        "print(num1,'/',num2,'=',result)\n",
        "result = num1 * num2\n",
        "print(num1,'*',num2,'=',result)"
      ],
      "metadata": {
        "colab": {
          "base_uri": "https://localhost:8080/"
        },
        "id": "W0WqFUZsBAQR",
        "outputId": "e04cc586-4380-4f52-d366-b1404dd5fbf3"
      },
      "execution_count": null,
      "outputs": [
        {
          "output_type": "stream",
          "name": "stdout",
          "text": [
            "숫자입력1:  10\n",
            "숫자입력2:  5\n",
            "<class 'int'>\n",
            "15 5 50 2.0\n",
            "10 + 5 = 15\n",
            "10 - 5 = 5\n",
            "10 / 5 = 2.0\n",
            "10 * 5 = 50\n"
          ]
        }
      ]
    },
    {
      "cell_type": "code",
      "source": [
        "# 자기이름, 전화번호, 택배(g)*100\n",
        "# 결과값 = g * 100원 = 00원입니다.\n",
        "a = input(\"이름입력:  \")\n",
        "b = input(\"전화번호입력:  \")\n",
        "c = int(input(\"택배g입력:  \"))\n",
        "d = c*100\n",
        "print(a, b, c)\n",
        "print('결과값 =',d,'원 입니다')\n",
        "\n",
        "\n",
        "\n"
      ],
      "metadata": {
        "colab": {
          "base_uri": "https://localhost:8080/"
        },
        "id": "lyJJl_hZDsUC",
        "outputId": "2884c8a1-16af-4293-982c-c0447fc13eb7"
      },
      "execution_count": null,
      "outputs": [
        {
          "output_type": "stream",
          "name": "stdout",
          "text": [
            "이름입력:  이우진\n",
            "전화번호입력:  01037401443\n",
            "택배g입력:  10\n",
            "이우진 01037401443 10\n",
            "결과값 = 1000 원 입니다\n"
          ]
        }
      ]
    },
    {
      "cell_type": "markdown",
      "source": [
        "# CH2. 서식 출력 print()"
      ],
      "metadata": {
        "id": "TG-_8S9Lib9t"
      }
    },
    {
      "cell_type": "code",
      "source": [
        "print(\"%d\" % 123)\n",
        "print(\"%5d\" % 123)\n",
        "print(\"%05d\" % 123)\n",
        "\n",
        "print(\"%f\" % 123.45)\n",
        "print(\"%7.1f\" % 123.45)\n",
        "print(\"%7.3f\" % 123.45)\n",
        "\n",
        "print(\"%c\" % \"1\")\n",
        "print(\"%s\" % \"가나다라\")\n",
        "print(\"%6s\" % \"가나다라\")\n",
        "print(\"%6s\" % \"abcd\")"
      ],
      "metadata": {
        "id": "2x4fWZciihUH",
        "outputId": "c15fb7af-f59c-4337-e61b-b82a2295adc8",
        "colab": {
          "base_uri": "https://localhost:8080/"
        }
      },
      "execution_count": null,
      "outputs": [
        {
          "output_type": "stream",
          "name": "stdout",
          "text": [
            "123\n",
            "  123\n",
            "00123\n",
            "123.450000\n",
            "  123.5\n",
            "123.450\n",
            "1\n",
            "가나다라\n",
            "  가나다라\n",
            "  abcd\n"
          ]
        }
      ]
    },
    {
      "cell_type": "markdown",
      "source": [
        "#### 순서 지정 기능 : format"
      ],
      "metadata": {
        "id": "D5vQ46JHkR_-"
      }
    },
    {
      "cell_type": "code",
      "source": [
        "print(\"{0:d} {1:5d} {2:05d}\".format(123,456,789))\n",
        "print(\"{2:d} {1:5d} {0:05d}\".format(123,456,789))"
      ],
      "metadata": {
        "id": "IHUMTaJKkVBo",
        "outputId": "618ed28b-9317-422a-f779-f10897e8737c",
        "colab": {
          "base_uri": "https://localhost:8080/"
        }
      },
      "execution_count": null,
      "outputs": [
        {
          "output_type": "stream",
          "name": "stdout",
          "text": [
            "123   456 00789\n",
            "789   456 00123\n"
          ]
        }
      ]
    },
    {
      "cell_type": "markdown",
      "source": [
        "#### 서식 출력"
      ],
      "metadata": {
        "id": "-rRIiAi7lARe"
      }
    },
    {
      "cell_type": "code",
      "source": [
        "print(\"\\n 줄바꿈 명령 \\n연습 입니다.\")"
      ],
      "metadata": {
        "id": "Hz_NGCgalCem",
        "outputId": "30c93ced-d286-459f-be75-3e030f434cfd",
        "colab": {
          "base_uri": "https://localhost:8080/"
        }
      },
      "execution_count": null,
      "outputs": [
        {
          "output_type": "stream",
          "name": "stdout",
          "text": [
            "\n",
            " 줄바꿈 명령 \n",
            "연습 입니다.\n"
          ]
        }
      ]
    },
    {
      "cell_type": "code",
      "source": [
        "print(\"\\t 탭키 명령 \\t 연습입니다.\")"
      ],
      "metadata": {
        "id": "NlsMScxglP8F",
        "outputId": "15f34863-51a2-43fa-885f-d94b167671f3",
        "colab": {
          "base_uri": "https://localhost:8080/"
        }
      },
      "execution_count": null,
      "outputs": [
        {
          "output_type": "stream",
          "name": "stdout",
          "text": [
            "\t 탭키 명령 \t 연습입니다.\n"
          ]
        }
      ]
    },
    {
      "cell_type": "code",
      "source": [
        "print(\"따옴표 글자가 \\\"강조\\\"되는 효과1\")\n",
        "print(\"따옴표 글자가 \\'강조\\'되는 효과2\")\n",
        "print(\"역슬래시 3개를 출력하려면 \\\\\\\\\\\\ 6개\")\n",
        "print(r\"\\n \\t \\\" \\\\ \\' @를 그대로 출력\")"
      ],
      "metadata": {
        "id": "1msLk7fLlZbt",
        "outputId": "32d67dcd-9743-4a5f-a5a0-a4133a6e6de1",
        "colab": {
          "base_uri": "https://localhost:8080/"
        }
      },
      "execution_count": null,
      "outputs": [
        {
          "output_type": "stream",
          "name": "stdout",
          "text": [
            "따옴표 글자가 \"강조\"되는 효과1\n",
            "따옴표 글자가 '강조'되는 효과2\n",
            "역슬래시 3개를 출력하려면 \\\\\\ 6개\n",
            "\\n \\t \\\" \\\\ \\' @를 그대로 출력\n"
          ]
        }
      ]
    },
    {
      "cell_type": "markdown",
      "source": [
        "# 관계 연산자"
      ],
      "metadata": {
        "id": "hJL7uq9futEe"
      }
    },
    {
      "cell_type": "code",
      "source": [
        "a,b=10,20\n",
        "print(a==b,a!=b,a>=b,a<=b,a>b,a<b)"
      ],
      "metadata": {
        "id": "8EDR97XEuvXd",
        "outputId": "74de3700-6996-4bd5-beee-01ea12a29841",
        "colab": {
          "base_uri": "https://localhost:8080/"
        }
      },
      "execution_count": null,
      "outputs": [
        {
          "output_type": "stream",
          "name": "stdout",
          "text": [
            "False True False True False True\n"
          ]
        }
      ]
    },
    {
      "cell_type": "markdown",
      "source": [
        "#### 논리 연산자 and, or, not"
      ],
      "metadata": {
        "id": "ICYYc9d9vENu"
      }
    },
    {
      "cell_type": "code",
      "source": [
        "a= 95\n",
        "print((a>100) and (a<200)) # 100<a<200\n",
        "print((a<100) or (a>200))  # a<100, a>200\n",
        "print(not(a==100))         # a<100, a>100"
      ],
      "metadata": {
        "id": "s4FbSLp5loBO",
        "outputId": "4757aed1-f568-4b67-e14d-2dddd6ca178a",
        "colab": {
          "base_uri": "https://localhost:8080/"
        }
      },
      "execution_count": null,
      "outputs": [
        {
          "output_type": "stream",
          "name": "stdout",
          "text": [
            "False\n",
            "True\n",
            "True\n"
          ]
        }
      ]
    },
    {
      "cell_type": "code",
      "source": [
        "if(2):\n",
        "   print(\"참이면 실행되어 보임\")\n",
        "if(0):\n",
        "   print(\"거짓이면 안보임\")\n",
        "   "
      ],
      "metadata": {
        "id": "pCW393Ehwhiu",
        "outputId": "9325e7dd-8118-4d01-a046-1c995025677c",
        "colab": {
          "base_uri": "https://localhost:8080/"
        }
      },
      "execution_count": null,
      "outputs": [
        {
          "output_type": "stream",
          "name": "stdout",
          "text": [
            "참이면 실행되어 보임\n"
          ]
        }
      ]
    },
    {
      "cell_type": "markdown",
      "source": [
        "#### 퀴즈2 // 몫 % 나머지 int(input(\"입력\")) 지폐 금액입력 후 동전으로 교환할 때(500원, 100원, 50원, 10원)\n",
        "money, c500, c100, c50, c10 받은돈 : ?원 500원 : ?개 100원 : ?개 50원 : ?개 10원 : ?개 나머지 : ?원\n"
      ],
      "metadata": {
        "id": "6SoMpEksw_X9"
      }
    },
    {
      "cell_type": "code",
      "source": [
        "myName=input(\"이름  :\")\n",
        "money= int(input(\"MONEY\"))\n",
        "\n",
        "c500=money//500   #몫\n",
        "money%=500        #money=money%500\n",
        "c100=money//100\n",
        "money%=100\n",
        "c50=money//50\n",
        "money%=50\n",
        "c10=money//10\n",
        "money%=10\n",
        "print(\"이름: \", myName)\n",
        "print(\"500원 동전 : %d개\" % c500)\n",
        "print(\"100원 동전 : %d개\" % c100)\n",
        "print(\"50원 동전  : %d개\" % c50)\n",
        "print(\"10원 동전  : %d개\" % c10)\n",
        "print(\"나머지   :  %d\" % money) "
      ],
      "metadata": {
        "id": "TuXP-yA-xutv",
        "outputId": "45d510a9-bd80-421f-ecf3-0c4a9fe80bd5",
        "colab": {
          "base_uri": "https://localhost:8080/"
        }
      },
      "execution_count": null,
      "outputs": [
        {
          "output_type": "stream",
          "name": "stdout",
          "text": [
            "이름  :이우진\n",
            "MONEY7777\n",
            "이름:  이우진\n",
            "500원 동전 : 15개\n",
            "100원 동전 : 2개\n",
            "50원 동전  : 1개\n",
            "10원 동전  : 2개\n",
            "나머지   :  7\n"
          ]
        }
      ]
    },
    {
      "cell_type": "code",
      "source": [
        "a=50\n",
        "if(a<100):\n",
        "  print(\"100보다 작으면 참\")\n",
        "  print(\"거짓이면 이 문장은 보이지 않음\")\n",
        "print(\"프로그램 끝\")"
      ],
      "metadata": {
        "id": "SQ_2YHzn6oKN",
        "outputId": "7a425038-6445-415d-9802-85135c883518",
        "colab": {
          "base_uri": "https://localhost:8080/"
        }
      },
      "execution_count": null,
      "outputs": [
        {
          "output_type": "stream",
          "name": "stdout",
          "text": [
            "100보다 작으면 참\n",
            "거짓이면 이 문장은 보이지 않음\n",
            "프로그램 끝\n"
          ]
        }
      ]
    },
    {
      "cell_type": "code",
      "source": [
        "a=200\n",
        "if(a<100):\n",
        "  print(\"참 : 100보다 작음\")\n",
        "else :\n",
        "  print(\"거짓 : 조건보다 크면\")\n",
        "print(\"프로그램\")"
      ],
      "metadata": {
        "colab": {
          "base_uri": "https://localhost:8080/"
        },
        "id": "Z8m8tdUx7XS8",
        "outputId": "9529e662-3ae8-46bd-b9ef-3db713e6ac9b"
      },
      "execution_count": 2,
      "outputs": [
        {
          "output_type": "stream",
          "name": "stdout",
          "text": [
            "거짓 : 조건보다 크면\n",
            "프로그램 끝\n"
          ]
        }
      ]
    },
    {
      "cell_type": "code",
      "source": [
        "#홀짝 구분\n",
        "a=int(input(\"숫자입력\"))\n",
        "if(a%2==0):\n",
        "  print(\"짝수 입니다.\")\n",
        "else :\n",
        "  print(\"홀수 입니다.\")\n",
        "\n"
      ],
      "metadata": {
        "colab": {
          "base_uri": "https://localhost:8080/"
        },
        "id": "jTSc_9VQ732-",
        "outputId": "d9803cbb-664f-4b00-e7ef-d3fd8edfb950"
      },
      "execution_count": 4,
      "outputs": [
        {
          "output_type": "stream",
          "name": "stdout",
          "text": [
            "숫자입력13\n",
            "홀수 입니다.\n"
          ]
        }
      ]
    },
    {
      "cell_type": "code",
      "source": [
        "a = int(input(\"숫자입력:\"))\n",
        "if(a>50):\n",
        "  if(a<100):\n",
        "    print(\"50<a<100\")\n",
        "  else:\n",
        "    print(\"a>100\")\n",
        "else :\n",
        "  if(a>25):\n",
        "    print(\"25<a<50\")\n",
        "  else:\n",
        "    print(\"a<25\")\n",
        "print(\"프로그램 끝\")"
      ],
      "metadata": {
        "colab": {
          "base_uri": "https://localhost:8080/"
        },
        "id": "t67u8gzt81nd",
        "outputId": "569dad53-d066-481b-a317-67de5320b67d"
      },
      "execution_count": 10,
      "outputs": [
        {
          "output_type": "stream",
          "name": "stdout",
          "text": [
            "숫자입력:65\n",
            "50<a<100\n",
            "프로그램 끝\n"
          ]
        }
      ]
    },
    {
      "cell_type": "code",
      "source": [
        "fruit = ['사과','배','샤인머스캣','바나나']\n",
        "fruit.append('망고')\n",
        "if'망고' in fruit :\n",
        "  print(\"망고가 있습니다.\")\n",
        "\n",
        "print(fruit)"
      ],
      "metadata": {
        "colab": {
          "base_uri": "https://localhost:8080/"
        },
        "id": "Hm73_w0-_nL9",
        "outputId": "368a59b5-d1f2-4e63-e513-82215cfe5c92"
      },
      "execution_count": 12,
      "outputs": [
        {
          "output_type": "stream",
          "name": "stdout",
          "text": [
            "망고가 있습니다.\n",
            "['사과', '배', '샤인머스캣', '바나나', '망고']\n"
          ]
        }
      ]
    },
    {
      "cell_type": "code",
      "source": [
        "\n",
        "for i in range(1,3,1) : # 시작값,끝값+1,증가값\n",
        "  print(\"%d 안녕하세요.\" % i)\n",
        "print(\"환영합니다.^^*\")"
      ],
      "metadata": {
        "colab": {
          "base_uri": "https://localhost:8080/"
        },
        "id": "spEd80QcAmy1",
        "outputId": "fb95f8d2-a83d-41f6-f278-ad8bfdb1a781"
      },
      "execution_count": 14,
      "outputs": [
        {
          "output_type": "stream",
          "name": "stdout",
          "text": [
            "1 안녕하세요.\n",
            "2 안녕하세요.\n",
            "환영합니다.^^*\n"
          ]
        }
      ]
    },
    {
      "cell_type": "code",
      "source": [
        "import random\n",
        "num =[]\n",
        "for i in range(0,6) :\n",
        "  num.append(random.randrange(1,46))\n",
        "print(\"생성 리스트\", num)"
      ],
      "metadata": {
        "colab": {
          "base_uri": "https://localhost:8080/"
        },
        "id": "YpszYWuKB2-d",
        "outputId": "1ce77d08-a10c-419d-859f-f23d323bbcce"
      },
      "execution_count": 17,
      "outputs": [
        {
          "output_type": "stream",
          "name": "stdout",
          "text": [
            "생성 리스트 [12, 43, 43, 24, 2, 30]\n"
          ]
        }
      ]
    },
    {
      "cell_type": "code",
      "source": [
        "for i in range(1,9,1):\n",
        "  print(\"%d\" % i, end='\\t')\n",
        "  \n",
        "for j in range(1,9,1):\n",
        "  print(\"%d\" % j, end='\\t')"
      ],
      "metadata": {
        "colab": {
          "base_uri": "https://localhost:8080/"
        },
        "id": "M0BJ4tbvDYml",
        "outputId": "327b0806-11c1-4f4c-f273-4a8ff6a486f0"
      },
      "execution_count": 22,
      "outputs": [
        {
          "output_type": "stream",
          "name": "stdout",
          "text": [
            "1\t2\t3\t4\t5\t6\t7\t8\t1\t2\t3\t4\t5\t6\t7\t8\t"
          ]
        }
      ]
    },
    {
      "cell_type": "code",
      "source": [
        "sum=0\n",
        "for i in range(1,11,1):\n",
        "  sum=sum+i\n",
        "print(\"1부터 10 까지 합:%d\" %sum)"
      ],
      "metadata": {
        "colab": {
          "base_uri": "https://localhost:8080/"
        },
        "id": "7epg4AwxEUEl",
        "outputId": "6436ee96-4d65-4258-f48f-f911298e5088"
      },
      "execution_count": 24,
      "outputs": [
        {
          "output_type": "stream",
          "name": "stdout",
          "text": [
            "1부터 10 까지 합:55\n"
          ]
        }
      ]
    },
    {
      "cell_type": "code",
      "source": [
        "sum,num=0,0\n",
        "num=int(input(\"숫자를 입력해주세요:\"))\n",
        "for i in range(1,num+1,1):\n",
        "  sum = sum+i\n",
        "print(\"1~n까지의 합 : %d\" % sum)"
      ],
      "metadata": {
        "colab": {
          "base_uri": "https://localhost:8080/"
        },
        "id": "yytcX7E1E32V",
        "outputId": "b8e1a52e-87a0-4bdb-a952-7276b0bb7756"
      },
      "execution_count": 25,
      "outputs": [
        {
          "output_type": "stream",
          "name": "stdout",
          "text": [
            "숫자를 입력해주세요:30\n",
            "1~n까지의 합 : 465\n"
          ]
        }
      ]
    },
    {
      "cell_type": "code",
      "source": [
        "i,j=2,0\n",
        "for i in range(2,10):\n",
        " for j in range(1,10,1):\n",
        "  \n",
        "  print(\"%dx%d = %2d\" % (i,j,i*j))"
      ],
      "metadata": {
        "colab": {
          "base_uri": "https://localhost:8080/"
        },
        "id": "SPcu824oF0k1",
        "outputId": "49d45e62-9714-4ff5-9748-3ddb7e0b78ac"
      },
      "execution_count": 27,
      "outputs": [
        {
          "output_type": "stream",
          "name": "stdout",
          "text": [
            "2x1 =  2\n",
            "2x2 =  4\n",
            "2x3 =  6\n",
            "2x4 =  8\n",
            "2x5 = 10\n",
            "2x6 = 12\n",
            "2x7 = 14\n",
            "2x8 = 16\n",
            "2x9 = 18\n"
          ]
        }
      ]
    },
    {
      "cell_type": "code",
      "source": [
        "i,j,k=0,0,0\n",
        "for j in range(1,10,1):\n",
        " \n",
        "  \n",
        "\n",
        "  for i in range(2,6,1):\n",
        "    print(\"%dx%d = %2d\"%(i,j,i*j),end='\\t')\n",
        "  print(\"\")\n",
        "print(\"\\n\")\n",
        "for j in range(1,10,1):\n",
        " \n",
        "  \n",
        "\n",
        "  for i in range(6,10,1):\n",
        "    print(\"%dx%d = %2d\"%(i,j,i*j),end='\\t')\n",
        "\n",
        "\n",
        "  print(\"\")"
      ],
      "metadata": {
        "colab": {
          "base_uri": "https://localhost:8080/"
        },
        "id": "aGbNQ0TDC5rF",
        "outputId": "006dc770-2b27-4364-f101-bdf8ccbba582"
      },
      "execution_count": 53,
      "outputs": [
        {
          "output_type": "stream",
          "name": "stdout",
          "text": [
            "2x1 =  2\t3x1 =  3\t4x1 =  4\t5x1 =  5\t\n",
            "2x2 =  4\t3x2 =  6\t4x2 =  8\t5x2 = 10\t\n",
            "2x3 =  6\t3x3 =  9\t4x3 = 12\t5x3 = 15\t\n",
            "2x4 =  8\t3x4 = 12\t4x4 = 16\t5x4 = 20\t\n",
            "2x5 = 10\t3x5 = 15\t4x5 = 20\t5x5 = 25\t\n",
            "2x6 = 12\t3x6 = 18\t4x6 = 24\t5x6 = 30\t\n",
            "2x7 = 14\t3x7 = 21\t4x7 = 28\t5x7 = 35\t\n",
            "2x8 = 16\t3x8 = 24\t4x8 = 32\t5x8 = 40\t\n",
            "2x9 = 18\t3x9 = 27\t4x9 = 36\t5x9 = 45\t\n",
            "\n",
            "\n",
            "6x1 =  6\t7x1 =  7\t8x1 =  8\t9x1 =  9\t\n",
            "6x2 = 12\t7x2 = 14\t8x2 = 16\t9x2 = 18\t\n",
            "6x3 = 18\t7x3 = 21\t8x3 = 24\t9x3 = 27\t\n",
            "6x4 = 24\t7x4 = 28\t8x4 = 32\t9x4 = 36\t\n",
            "6x5 = 30\t7x5 = 35\t8x5 = 40\t9x5 = 45\t\n",
            "6x6 = 36\t7x6 = 42\t8x6 = 48\t9x6 = 54\t\n",
            "6x7 = 42\t7x7 = 49\t8x7 = 56\t9x7 = 63\t\n",
            "6x8 = 48\t7x8 = 56\t8x8 = 64\t9x8 = 72\t\n",
            "6x9 = 54\t7x9 = 63\t8x9 = 72\t9x9 = 81\t\n"
          ]
        }
      ]
    }
  ]
}